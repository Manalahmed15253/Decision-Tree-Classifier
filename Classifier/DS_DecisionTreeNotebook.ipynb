{
 "cells": [
  {
   "cell_type": "markdown",
   "metadata": {},
   "source": [
    "# Importing the needed modules"
   ]
  },
  {
   "cell_type": "code",
   "execution_count": 367,
   "metadata": {},
   "outputs": [],
   "source": [
    "import numpy as np\n",
    "import pandas as pd\n",
    "\n",
    "import matplotlib.pyplot as plt\n",
    "# import seaborn as sns\n",
    "from graphviz import Digraph\n",
    "import pydot\n",
    "from pprint import pprint\n",
    "import networkx as nx\n",
    "import random"
   ]
  },
  {
   "cell_type": "markdown",
   "metadata": {},
   "source": [
    "# Reading the datasets"
   ]
  },
  {
   "cell_type": "code",
   "execution_count": 196,
   "metadata": {},
   "outputs": [],
   "source": [
    "trainData = pd.read_csv('sample_train.csv')\n",
    "devData = pd.read_csv('sample_dev.csv')\n",
    "testData = pd.read_csv('sample_test.csv')\n",
    "dataFrame = pd.DataFrame(trainData)"
   ]
  },
  {
   "cell_type": "code",
   "execution_count": 39,
   "metadata": {},
   "outputs": [],
   "source": [
    "def data_init(file):\n",
    "    trainData = pd.read_csv(file)\n",
    "    dataFrame = pd.DataFrame(trainData)\n",
    "    return dataFrame\n",
    "#     dataFrame=dataFrame.drop(\"rating\",axis=1)"
   ]
  },
  {
   "cell_type": "code",
   "execution_count": 211,
   "metadata": {},
   "outputs": [],
   "source": [
    "def words_count(dataFrame):\n",
    "    d = []\n",
    "    if 'rating' in dataFrame.columns:\n",
    "        d = dataFrame.rating\n",
    "        dataFrame = dataFrame.drop('rating',axis=1)\n",
    "    features = ['contains_No', 'contains_Please', 'contains_Thank', 'contains_apologize', 'contains_bad',\n",
    "    'contains_clean', 'contains_comfortable', 'contains_dirty', 'contains_enjoyed', 'contains_friendly',\n",
    "    'contains_glad', 'contains_good', 'contains_great', 'contains_happy', 'contains_hot', 'contains_issues',\n",
    "    'contains_nice', 'contains_noise', 'contains_old', 'contains_poor', 'contains_right', 'contains_small', \n",
    "    'contains_smell', 'contains_sorry', 'contains_wonderful', 'reviews.text', 'count_reviews.text']\n",
    "    \n",
    "    for i in dataFrame.columns:\n",
    "        c = i.replace('contains_','')\n",
    "        col = []\n",
    "        for j in range(0,dataFrame.shape[0]):\n",
    "            if dataFrame[i][j]==1:\n",
    "                col.append(dataFrame['reviews.text'][j].count(c))\n",
    "            else:\n",
    "                col.append(0)\n",
    "        dataFrame['count_'+c]=col\n",
    "    \n",
    "    dataFrame = dataFrame.drop(features,axis=1)\n",
    "    dataFrame = dataFrame.join(d)\n",
    "    return dataFrame"
   ]
  },
  {
   "cell_type": "code",
   "execution_count": 41,
   "metadata": {},
   "outputs": [],
   "source": [
    "def check_purity(data):\n",
    "    \n",
    "    rating_column = data[:, -1]\n",
    "    unique_classes = np.unique(rating_column)\n",
    "\n",
    "    if len(unique_classes) == 1:\n",
    "        return True\n",
    "    else:\n",
    "        return False"
   ]
  },
  {
   "cell_type": "code",
   "execution_count": 42,
   "metadata": {},
   "outputs": [],
   "source": [
    "def classify_data(data):\n",
    "    \n",
    "    rating_column = data[:, -1]\n",
    "    unique_classes, counts_unique_classes = np.unique(rating_column, return_counts=True)\n",
    "\n",
    "    index = counts_unique_classes.argmax()\n",
    "    classification = unique_classes[index]\n",
    "    \n",
    "    return classification"
   ]
  },
  {
   "cell_type": "code",
   "execution_count": 43,
   "metadata": {},
   "outputs": [],
   "source": [
    "def get_potential_splits(data):\n",
    "    \n",
    "    potential_splits = {}\n",
    "    n_columns = data.shape[1]\n",
    "    for column_index in range(n_columns - 1):        # excluding the last column which is the rating\n",
    "        potential_splits[column_index] = []\n",
    "        values = data[:, column_index]\n",
    "        unique_values = np.unique(values)\n",
    "\n",
    "        potential_splits[column_index]=unique_values\n",
    "        \n",
    "    return potential_splits"
   ]
  },
  {
   "cell_type": "code",
   "execution_count": 45,
   "metadata": {},
   "outputs": [],
   "source": [
    "def split_data(data, split_column, split_value):\n",
    "    \n",
    "    split_column_values = data[:, split_column]\n",
    "\n",
    "    data_below = data[split_column_values <= split_value]\n",
    "    data_above = data[split_column_values > split_value]\n",
    "    \n",
    "    return data_below, data_above"
   ]
  },
  {
   "cell_type": "code",
   "execution_count": 46,
   "metadata": {},
   "outputs": [],
   "source": [
    "def calculate_entropy(data):\n",
    "    \n",
    "    rating_column = data[:, -1]\n",
    "    _, counts = np.unique(rating_column, return_counts=True)\n",
    "\n",
    "    probabilities = counts / counts.sum()\n",
    "    entropy = sum(probabilities * -np.log2(probabilities))\n",
    "     \n",
    "    return entropy"
   ]
  },
  {
   "cell_type": "code",
   "execution_count": 47,
   "metadata": {},
   "outputs": [],
   "source": [
    "def calculate_overall_entropy(data_below, data_above):\n",
    "    \n",
    "    n = len(data_below) + len(data_above)\n",
    "    p_data_below = len(data_below) / n\n",
    "    p_data_above = len(data_above) / n\n",
    "\n",
    "    overall_entropy =  (p_data_below * calculate_entropy(data_below) \n",
    "                      + p_data_above * calculate_entropy(data_above))\n",
    "    \n",
    "    return overall_entropy\n",
    "\n"
   ]
  },
  {
   "cell_type": "code",
   "execution_count": 48,
   "metadata": {},
   "outputs": [],
   "source": [
    "def determine_best_split(data, potential_splits):\n",
    "    \n",
    "    overall_entropy = 9999\n",
    "    for column_index in potential_splits:\n",
    "        for value in potential_splits[column_index]:\n",
    "            data_below, data_above = split_data(data, split_column=column_index, split_value=value)\n",
    "            current_overall_entropy = calculate_overall_entropy(data_below, data_above)\n",
    "\n",
    "            if current_overall_entropy <= overall_entropy:\n",
    "                overall_entropy = current_overall_entropy\n",
    "                best_split_column = column_index\n",
    "                best_split_value = value\n",
    "    \n",
    "    return best_split_column, best_split_value\n",
    "\n",
    "\n"
   ]
  },
  {
   "cell_type": "code",
   "execution_count": null,
   "metadata": {},
   "outputs": [],
   "source": [
    "# def decision_tree_algorithm(df, counter=0, min_samples=2, max_depth=5):\n",
    "    \n",
    "    # data preparations\n",
    "    if counter == 0:\n",
    "        global COLUMN_HEADERS\n",
    "        COLUMN_HEADERS = df.columns\n",
    "        data = df.values\n",
    "    else:\n",
    "        data = df           \n",
    "    \n",
    "    \n",
    "    # base cases\n",
    "    if (check_purity(data)) or (len(data) < min_samples) or (counter == max_depth):\n",
    "        classification = classify_data(data)\n",
    "        \n",
    "        return classification\n",
    "\n",
    "    \n",
    "    # recursive part\n",
    "    else:    \n",
    "        counter += 1\n",
    "\n",
    "        # helper functions \n",
    "        potential_splits = get_potential_splits(data)\n",
    "        split_column, split_value = determine_best_split(data, potential_splits)\n",
    "        data_below, data_above = split_data(data, split_column, split_value)\n",
    "        \n",
    "        if len(data_below)==0 or len(data_above)==0:    \n",
    "            classification = classify_data(data)\n",
    "            return classification\n",
    "            \n",
    "        \n",
    "        # instantiate sub-tree --to be converted into nodes\n",
    "        feature_name = COLUMN_HEADERS[split_column]\n",
    "        question = \"{} = {}\".format(feature_name, split_value)\n",
    "        sub_tree = {question: []}\n",
    "    \n",
    "        yes_answer = decision_tree_algorithm(data_below, counter, min_samples, max_depth)\n",
    "        no_answer = decision_tree_algorithm(data_above, counter, min_samples, max_depth)\n",
    "\n",
    "        if yes_answer == no_answer:\n",
    "            sub_tree = yes_answer\n",
    "        else:\n",
    "            sub_tree[question].append(yes_answer)\n",
    "            sub_tree[question].append(no_answer)\n",
    "            \n",
    "        \n",
    "        \n",
    "        return sub_tree\n",
    "    "
   ]
  },
  {
   "cell_type": "markdown",
   "metadata": {},
   "source": [
    "# Implementing Node and Tree Classes"
   ]
  },
  {
   "cell_type": "code",
   "execution_count": 254,
   "metadata": {},
   "outputs": [],
   "source": [
    "class Node:\n",
    "    def __init__(self,key):\n",
    "        self.val = key\n",
    "        self.left = None\n",
    "        self.right = None\n",
    "        "
   ]
  },
  {
   "cell_type": "code",
   "execution_count": 255,
   "metadata": {},
   "outputs": [],
   "source": [
    "class Tree:\n",
    "    def __init__(self, _val = None):\n",
    "        self.val = _val\n",
    "        self.right, self.left = None, None\n",
    "    def __iter__(self):\n",
    "        yield self.val\n",
    "        yield from [[], self.left][bool(self.left)]\n",
    "        yield from [[], self.right][bool(self.right)]\n",
    "    def _insert_vals(self, _start, _d):\n",
    "        self.val = _start\n",
    "        \n",
    "        for a, b in zip(['left', 'right'], _d.get(_start, [])):\n",
    "            if b is not None:\n",
    "                setattr(self, a, Tree())\n",
    "                getattr(self, a)._insert_vals(b, _d)"
   ]
  },
  {
   "cell_type": "code",
   "execution_count": 450,
   "metadata": {},
   "outputs": [],
   "source": [
    "def decision_tree_algorithm(df, counter=0, min_samples=2, max_depth=5):\n",
    "    d = Digraph()\n",
    "    # data preparations\n",
    "    if counter == 0:\n",
    "        global COLUMN_HEADERS\n",
    "        COLUMN_HEADERS = df.columns\n",
    "        data = df.values\n",
    "    else:\n",
    "        data = df           \n",
    "    \n",
    "    \n",
    "    # base cases\n",
    "    if (check_purity(data)) or (len(data) < min_samples) or (counter == max_depth):\n",
    "        classification = classify_data(data)\n",
    "        \n",
    "        return classification\n",
    "\n",
    "    # recursive part\n",
    "    else:    \n",
    "        counter += 1\n",
    "      #  sub_tree = Tree()\n",
    "\n",
    "        # helper functions \n",
    "        potential_splits = get_potential_splits(data)\n",
    "        split_column, split_value = determine_best_split(data, potential_splits)\n",
    "        data_below, data_above = split_data(data, split_column, split_value)\n",
    "        \n",
    "        if len(data_below)==0 or len(data_above)==0:    \n",
    "            classification = classify_data(data)\n",
    "            return classification\n",
    "            \n",
    "        \n",
    "        # instantiate sub-tree --to be converted into n\n",
    "        feature_name = COLUMN_HEADERS[split_column]\n",
    "        question = \"{}  {}\".format(feature_name, split_value)\n",
    "        d.node(question)\n",
    "#         sub_tree._insert_vals(question,)\n",
    "        sub_tree = {question: []}\n",
    "        \n",
    "        yes_answer = decision_tree_algorithm(data_below, counter, min_samples, max_depth)\n",
    "        no_answer = decision_tree_algorithm(data_above, counter, min_samples, max_depth)\n",
    "\n",
    "        if yes_answer == no_answer:\n",
    "            sub_tree = yes_answer\n",
    "        else:\n",
    "            sub_tree[question].append(yes_answer)\n",
    "            sub_tree[question].append(no_answer)\n",
    "#         d = {frozenset(sub_tree[question].values)}\n",
    "        return sub_tree\n",
    "    "
   ]
  },
  {
   "cell_type": "code",
   "execution_count": 261,
   "metadata": {},
   "outputs": [],
   "source": [
    "def classify_example(example, tree):\n",
    "    question = list(tree.keys())[0]\n",
    "    feature_name, comparison_operator, value = question.split()\n",
    "\n",
    "    # ask question\n",
    "    if str(example[feature_name]) <= value:\n",
    "        answer = tree[question][0]\n",
    "    else:\n",
    "        answer = tree[question][1]\n",
    "\n",
    "    # base case\n",
    "    if not isinstance(answer, dict):\n",
    "        return answer\n",
    "    \n",
    "    # recursive part\n",
    "    else:\n",
    "        residual_tree = answer\n",
    "        return classify_example(example, residual_tree)"
   ]
  },
  {
   "cell_type": "code",
   "execution_count": 291,
   "metadata": {},
   "outputs": [],
   "source": [
    "def predict(df,tree):\n",
    "    df=words_count(df)\n",
    "    df[\"classification\"] = df.apply(classify_example, axis=1, args=(tree,))\n",
    "    with open('output.txt', 'w') as f:\n",
    "        for text in df['classification'].tolist():\n",
    "            f.write(text + '\\n')\n",
    "    return df['classification'].values\n",
    "    "
   ]
  },
  {
   "cell_type": "code",
   "execution_count": 292,
   "metadata": {},
   "outputs": [],
   "source": [
    "def calculate_accuracy(df_, tree,show=False):\n",
    "    df=words_count(df_)\n",
    "    df[\"classification\"] = df.apply(classify_example, axis=1, args=(tree,))\n",
    "    df[\"classification_correct\"] = df[\"classification\"] == df[\"rating\"]\n",
    "    \n",
    "    accuracy = df[\"classification_correct\"].mean()\n",
    "    if show==True:\n",
    "        #print(df.classification)\n",
    "        #print(df.classification_correct)\n",
    "#         print(df[['classification'],['classification_correct']])\n",
    "        print(df[['classification', 'classification_correct']])\n",
    "    return accuracy"
   ]
  },
  {
   "cell_type": "code",
   "execution_count": 451,
   "metadata": {},
   "outputs": [],
   "source": [
    "d = words_count(dataFrame)\n",
    "t = decision_tree_algorithm(d, max_depth=3)\n",
    "# x=calculate_accuracy(devData,t)\n",
    "# pprint(t)\n",
    "# print(x)"
   ]
  },
  {
   "cell_type": "code",
   "execution_count": 457,
   "metadata": {},
   "outputs": [],
   "source": [
    "with open('graph.dot','w') as out:\n",
    "    for line in ('digraph G {','size=\"16,16\";','splines=true;'):\n",
    "        out.write('{}\\n'.format(line)) \n",
    "        out.write('{} -> {} [ label=\"{}\" ];\\n'.format(t.keys(),))\n",
    "    for start,d in t.items():\n",
    "        for end,weight in m:\n",
    "              out.write('{} -> {} [ label=\"{}\" ];\\n'.format(start,end,weight))\n",
    "    out.write('}\\n')"
   ]
  },
  {
   "cell_type": "code",
   "execution_count": 369,
   "metadata": {},
   "outputs": [
    {
     "name": "stdout",
     "output_type": "stream",
     "text": [
      "parent :  question_1475\n",
      "child  :  count_friendly = 0\n",
      "parent :  count_sorry = 0\n",
      "child  :  count_dirty = 0\n",
      "parent :  question_1410\n",
      "child  :  count_enjoyed = 0\n",
      "parent :  count_sorry = 0\n",
      "child  :  count_apologize = 0\n",
      "parent :  None\n",
      "child  :  count_sorry = 0\n"
     ]
    }
   ],
   "source": [
    "plot_tree(t,graph,parent=None,counter=0)"
   ]
  },
  {
   "cell_type": "code",
   "execution_count": 412,
   "metadata": {},
   "outputs": [
    {
     "data": {
      "text/plain": [
       "'{\"count_sorry = 0\": [{\"count_dirty = 0\": [\"Positive\", {\"count_friendly = 0\": [\"Negative\", \"Positive\"]}]}, {\"count_apologize = 0\": [{\"count_enjoyed = 0\": [\"Negative\", \"Positive\"]}, \"Negative\"]}]}'"
      ]
     },
     "execution_count": 412,
     "metadata": {},
     "output_type": "execute_result"
    }
   ],
   "source": [
    "result = json.dumps(t)\n",
    "result"
   ]
  },
  {
   "cell_type": "code",
   "execution_count": null,
   "metadata": {},
   "outputs": [],
   "source": []
  },
  {
   "cell_type": "code",
   "execution_count": 294,
   "metadata": {},
   "outputs": [],
   "source": [
    "ex = testData\n",
    "c = predict(ex,t)"
   ]
  },
  {
   "cell_type": "code",
   "execution_count": 386,
   "metadata": {},
   "outputs": [],
   "source": [
    "data = list(t.items())\n",
    "an_array = np.array(data)"
   ]
  },
  {
   "cell_type": "code",
   "execution_count": 387,
   "metadata": {},
   "outputs": [
    {
     "data": {
      "text/plain": [
       "array([['count_sorry = 0',\n",
       "        list([{'count_dirty = 0': ['Positive', {'count_friendly = 0': ['Negative', 'Positive']}]}, {'count_apologize = 0': [{'count_enjoyed = 0': ['Negative', 'Positive']}, 'Negative']}])]],\n",
       "      dtype=object)"
      ]
     },
     "execution_count": 387,
     "metadata": {},
     "output_type": "execute_result"
    }
   ],
   "source": [
    "an_array"
   ]
  },
  {
   "cell_type": "code",
   "execution_count": 312,
   "metadata": {},
   "outputs": [],
   "source": [
    "def generate_edges(graph):\n",
    "    edges = []\n",
    "\n",
    "    # for each node in graph\n",
    "    for node in graph:\n",
    "\n",
    "        # for each neighbour node of a single node\n",
    "        for neighbour in graph[node]:\n",
    "            # if edge exists then append\n",
    "            edges.append((node, neighbour))\n",
    "    return edges"
   ]
  },
  {
   "cell_type": "code",
   "execution_count": 313,
   "metadata": {},
   "outputs": [],
   "source": [
    "from collections import defaultdict\n",
    "graph = defaultdict(list) \n",
    "def addEdge(graph,u,v): \n",
    "    graph[u].append(v) \n",
    "  \n",
    "    # definition of function \n",
    "def generate_edges(graph): \n",
    "    edges = [] \n",
    "  \n",
    "    # for each node in graph \n",
    "    for node in graph: \n",
    "          \n",
    "        # for each neighbour node of a single node \n",
    "        for neighbour in graph[node]: \n",
    "              \n",
    "            # if edge exists then append \n",
    "            edges.append((node, neighbour)) \n",
    "    return edges "
   ]
  },
  {
   "cell_type": "code",
   "execution_count": 385,
   "metadata": {},
   "outputs": [
    {
     "data": {
      "text/plain": [
       "<networkx.classes.digraph.DiGraph at 0x7f22051c07b8>"
      ]
     },
     "execution_count": 385,
     "metadata": {},
     "output_type": "execute_result"
    }
   ],
   "source": [
    "m = generate_edges(t)\n",
    "# split = m.split(',')\n",
    "# split\n",
    "G = nx.DiGraph()\n",
    "G\n",
    "# for j in range(0,2):\n",
    "#     print(m[0][j])\n",
    "#     print(m[1][j])"
   ]
  },
  {
   "cell_type": "code",
   "execution_count": 316,
   "metadata": {},
   "outputs": [
    {
     "ename": "AttributeError",
     "evalue": "'dict' object has no attribute 'export_graphviz'",
     "output_type": "error",
     "traceback": [
      "\u001b[0;31m---------------------------------------------------------------------------\u001b[0m",
      "\u001b[0;31mAttributeError\u001b[0m                            Traceback (most recent call last)",
      "\u001b[0;32m<ipython-input-316-c00b13548f6b>\u001b[0m in \u001b[0;36m<module>\u001b[0;34m\u001b[0m\n\u001b[0;32m----> 1\u001b[0;31m dot_data = tree.export_graphviz(m,\n\u001b[0m\u001b[1;32m      2\u001b[0m                                 \u001b[0mfeature_names\u001b[0m\u001b[0;34m=\u001b[0m\u001b[0md\u001b[0m\u001b[0;34m.\u001b[0m\u001b[0mcolumns\u001b[0m\u001b[0;34m,\u001b[0m\u001b[0;34m\u001b[0m\u001b[0;34m\u001b[0m\u001b[0m\n\u001b[1;32m      3\u001b[0m                                 \u001b[0mout_file\u001b[0m\u001b[0;34m=\u001b[0m\u001b[0;32mNone\u001b[0m\u001b[0;34m,\u001b[0m\u001b[0;34m\u001b[0m\u001b[0;34m\u001b[0m\u001b[0m\n\u001b[1;32m      4\u001b[0m                                 \u001b[0mfilled\u001b[0m\u001b[0;34m=\u001b[0m\u001b[0;32mTrue\u001b[0m\u001b[0;34m,\u001b[0m\u001b[0;34m\u001b[0m\u001b[0;34m\u001b[0m\u001b[0m\n\u001b[1;32m      5\u001b[0m                                 rounded=True)\n",
      "\u001b[0;31mAttributeError\u001b[0m: 'dict' object has no attribute 'export_graphviz'"
     ]
    }
   ],
   "source": [
    "dot_data = tree.export_graphviz(m,\n",
    "                                feature_names=d.columns,\n",
    "                                out_file=None,\n",
    "                                filled=True,\n",
    "                                rounded=True)\n",
    "graph = pydotplus.graph_from_dot_file()\n",
    "\n",
    "colors = ('turquoise', 'orange')\n",
    "edges = collections.defaultdict(list)\n",
    "\n",
    "for edge in graph.get_edge_list():\n",
    "    edges[edge.get_source()].append(int(edge.get_destination()))\n",
    "\n",
    "for edge in edges:\n",
    "    edges[edge].sort()    \n",
    "    for i in range(2):\n",
    "        dest = graph.get_node(str(edges[edge][i]))[0]\n",
    "        dest.set_fillcolor(colors[i])\n",
    "\n",
    "graph.write_png('tree.png')"
   ]
  },
  {
   "cell_type": "markdown",
   "metadata": {},
   "source": [
    "# Importing needed modules for Visualization"
   ]
  },
  {
   "cell_type": "code",
   "execution_count": 340,
   "metadata": {},
   "outputs": [],
   "source": [
    "#Visualizing the DecisionTree\n",
    "from sklearn.externals.six import StringIO  \n",
    "from IPython.display import Image  \n",
    "from sklearn.tree import export_graphviz\n",
    "import graphviz as pgv\n",
    "import pydotplus\n",
    "import sklearn.tree as sktree\n",
    "import json\n",
    "import networkx as nx"
   ]
  },
  {
   "cell_type": "code",
   "execution_count": 458,
   "metadata": {},
   "outputs": [
    {
     "data": {
      "image/png": "[encoded data removed]",
      "text/plain": [
       "<IPython.core.display.Image object>"
      ]
     },
     "execution_count": 458,
     "metadata": {},
     "output_type": "execute_result"
    }
   ],
   "source": [
    "dot_data = StringIO()\n",
    "# export_graphviz(result, out_file=dot_data,  \n",
    "#                 filled=True, rounded=True,\n",
    "#                 special_characters=True, feature_names = d.columns,class_names=['Positive','Negative'])\n",
    "graph = pydotplus.graph_from_dot_file('graph.dot')  \n",
    "graph.write_png('Reviews.png')\n",
    "Image(graph.create_png())"
   ]
  },
  {
   "cell_type": "code",
   "execution_count": 109,
   "metadata": {},
   "outputs": [
    {
     "name": "stdout",
     "output_type": "stream",
     "text": [
      "0.5\n"
     ]
    },
    {
     "name": "stderr",
     "output_type": "stream",
     "text": [
      "C:\\Users\\nesma\\anaconda3\\envs\\pd-env\\lib\\site-packages\\seaborn\\regression.py:573: UserWarning: The `size` parameter has been renamed to `height`; please update your code.\n",
      "  warnings.warn(msg, UserWarning)\n"
     ]
    },
    {
     "data": {
      "text/plain": [
       "<matplotlib.collections.LineCollection at 0x211c02a2a88>"
      ]
     },
     "execution_count": 109,
     "metadata": {},
     "output_type": "execute_result"
    },
    {
     "data": {
      "image/png": "[encoded data removed]",
      "text/plain": [
       "<Figure size 648x432 with 1 Axes>"
      ]
     },
     "metadata": {
      "needs_background": "light"
     },
     "output_type": "display_data"
    }
   ],
   "source": [
    "# plotting_df = pd.DataFrame(d , columns=df.columns)\n",
    "potential_splits = get_potential_splits(d.values)\n",
    "_, split_value = determine_best_split(d.values,potential_splits) \n",
    "print(split_value)\n",
    "sns.lmplot(data = d , x=\"count_sorry\" , y=\"count_dirty\"  ,fit_reg=False , size=6 ,aspect=1.5)\n",
    "plt.vlines(x=split_value , ymin=1 , ymax=10)"
   ]
  }
 ],
 "metadata": {
  "kernelspec": {
   "display_name": "Python 3",
   "language": "python",
   "name": "python3"
  },
  "language_info": {
   "codemirror_mode": {
    "name": "ipython",
    "version": 3
   },
   "file_extension": ".py",
   "mimetype": "text/x-python",
   "name": "python",
   "nbconvert_exporter": "python",
   "pygments_lexer": "ipython3",
   "version": "3.6.4"
  }
 },
 "nbformat": 4,
 "nbformat_minor": 4
}
